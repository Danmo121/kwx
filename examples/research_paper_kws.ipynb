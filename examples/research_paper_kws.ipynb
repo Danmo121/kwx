{
 "cells": [
  {
   "cell_type": "markdown",
   "metadata": {
    "slideshow": {
     "slide_type": "slide"
    },
    "toc": true
   },
   "source": [
    "<h1>Table of Contents<span class=\"tocSkip\"></span></h1>\n",
    "<div class=\"toc\"><ul class=\"toc-item\"><li><span><a href=\"#Imports-and-Setup\" data-toc-modified-id=\"Imports-and-Setup-1\"><span class=\"toc-item-num\">1&nbsp;&nbsp;</span>Imports and Setup</a></span></li><li><span><a href=\"#Keyword-Analysis-Functions\" data-toc-modified-id=\"Keyword-Analysis-Functions-2\"><span class=\"toc-item-num\">2&nbsp;&nbsp;</span>Keyword Analysis Functions</a></span><ul class=\"toc-item\"><li><span><a href=\"#Load-Data\" data-toc-modified-id=\"Load-Data-2.1\"><span class=\"toc-item-num\">2.1&nbsp;&nbsp;</span>Load Data</a></span></li><li><span><a href=\"#Prepare-Text-Data\" data-toc-modified-id=\"Prepare-Text-Data-2.2\"><span class=\"toc-item-num\">2.2&nbsp;&nbsp;</span>Prepare Text Data</a></span></li><li><span><a href=\"#Show-Model-Topics\" data-toc-modified-id=\"Show-Model-Topics-2.3\"><span class=\"toc-item-num\">2.3&nbsp;&nbsp;</span>Show Model Topics</a></span></li><li><span><a href=\"#Generate-Keywords\" data-toc-modified-id=\"Generate-Keywords-2.4\"><span class=\"toc-item-num\">2.4&nbsp;&nbsp;</span>Generate Keywords</a></span></li><li><span><a href=\"#Translate-Output\" data-toc-modified-id=\"Translate-Output-2.5\"><span class=\"toc-item-num\">2.5&nbsp;&nbsp;</span>Translate Output</a></span></li><li><span><a href=\"#Order-by-Part-of-Speech\" data-toc-modified-id=\"Order-by-Part-of-Speech-2.6\"><span class=\"toc-item-num\">2.6&nbsp;&nbsp;</span>Order by Part of Speech</a></span></li><li><span><a href=\"#Get-TFIDF-Keywords\" data-toc-modified-id=\"Get-TFIDF-Keywords-2.7\"><span class=\"toc-item-num\">2.7&nbsp;&nbsp;</span>Get TFIDF Keywords</a></span></li></ul></li><li><span><a href=\"#Visualization-Functions\" data-toc-modified-id=\"Visualization-Functions-3\"><span class=\"toc-item-num\">3&nbsp;&nbsp;</span>Visualization Functions</a></span><ul class=\"toc-item\"><li><span><a href=\"#Graph-of-Topic-Number-Evaluations\" data-toc-modified-id=\"Graph-of-Topic-Number-Evaluations-3.1\"><span class=\"toc-item-num\">3.1&nbsp;&nbsp;</span>Graph of Topic Number Evaluations</a></span></li><li><span><a href=\"#pyLDAvis-Topic-Visualization\" data-toc-modified-id=\"pyLDAvis-Topic-Visualization-3.2\"><span class=\"toc-item-num\">3.2&nbsp;&nbsp;</span>pyLDAvis Topic Visualization</a></span></li><li><span><a href=\"#Word-Cloud\" data-toc-modified-id=\"Word-Cloud-3.3\"><span class=\"toc-item-num\">3.3&nbsp;&nbsp;</span>Word Cloud</a></span></li></ul></li><li><span><a href=\"#gen_analysis_files-Test\" data-toc-modified-id=\"gen_analysis_files-Test-4\"><span class=\"toc-item-num\">4&nbsp;&nbsp;</span>gen_analysis_files Test</a></span></li></ul></div>"
   ]
  },
  {
   "cell_type": "markdown",
   "metadata": {},
   "source": [
    "This notebook describes the use of kwgen by deriving the top keywords for papers from the [COVID-19 Open Research Dataset](https://www.kaggle.com/allen-institute-for-ai/CORD-19-research-challenge/). \n",
    "\n",
    "Follow the provided link and download the "
   ]
  },
  {
   "cell_type": "markdown",
   "metadata": {},
   "source": [
    "# Imports and Setup"
   ]
  },
  {
   "cell_type": "code",
   "execution_count": 1,
   "metadata": {
    "ExecuteTime": {
     "end_time": "2020-11-09T21:07:48.010573Z",
     "start_time": "2020-11-09T21:07:47.094734Z"
    },
    "slideshow": {
     "slide_type": "skip"
    }
   },
   "outputs": [
    {
     "data": {
      "text/html": [
       "<style>.container { width:99% !important; }</style>"
      ],
      "text/plain": [
       "<IPython.core.display.HTML object>"
      ]
     },
     "metadata": {},
     "output_type": "display_data"
    }
   ],
   "source": [
    "import os\n",
    "import sys\n",
    "\n",
    "import pandas as pd\n",
    "\n",
    "import kwgen\n",
    "\n",
    "import matplotlib.pyplot as plt\n",
    "import seaborn as sns\n",
    "# Plot settings\n",
    "sns.set(style=\"darkgrid\")\n",
    "sns.set(rc={'figure.figsize':(15,5)})\n",
    "\n",
    "pd.set_option(\"display.max_rows\", 16) # maximum df rows\n",
    "pd.set_option('display.max_columns', None) # maximum df columns\n",
    "from IPython.core.display import display, HTML\n",
    "display(HTML(\"<style>.container { width:99% !important; }</style>\")) # widens interface\n",
    "# %matplotlib notebook"
   ]
  },
  {
   "cell_type": "markdown",
   "metadata": {
    "slideshow": {
     "slide_type": "slide"
    }
   },
   "source": [
    "# Keyword Analysis Functions"
   ]
  },
  {
   "cell_type": "markdown",
   "metadata": {},
   "source": [
    "## Load Data"
   ]
  },
  {
   "cell_type": "code",
   "execution_count": null,
   "metadata": {},
   "outputs": [],
   "source": [
    "df_corpus = kwgen.utils.load_data(data=path)\n",
    "df_corpus.loc[:5]"
   ]
  },
  {
   "cell_type": "markdown",
   "metadata": {},
   "source": [
    "## Prepare Text Data"
   ]
  },
  {
   "cell_type": "code",
   "execution_count": null,
   "metadata": {},
   "outputs": [],
   "source": [
    "text_corpus = kwgen.utils.prepare_text_data(\n",
    "    data=df_corpus, \n",
    "    input_language=input_language, \n",
    "    incl_mc_questions=False,\n",
    "    min_freq=2,\n",
    "    min_word_len=4\n",
    ")[0]"
   ]
  },
  {
   "cell_type": "code",
   "execution_count": null,
   "metadata": {},
   "outputs": [],
   "source": [
    "text_corpus[index]"
   ]
  },
  {
   "cell_type": "markdown",
   "metadata": {},
   "source": [
    "## Show Model Topics"
   ]
  },
  {
   "cell_type": "code",
   "execution_count": 11,
   "metadata": {
    "ExecuteTime": {
     "end_time": "2020-11-09T19:02:40.001462Z",
     "start_time": "2020-11-09T19:02:31.106061Z"
    },
    "slideshow": {
     "slide_type": "slide"
    }
   },
   "outputs": [],
   "source": [
    "topics = kwgen.model.gen_keywords(\n",
    "    method='LDA',\n",
    "    text_corpus=df_corpus,\n",
    "    clean_texts=None,\n",
    "    input_language=input_language,\n",
    "    output_language=output_language,\n",
    "    num_keywords=15,\n",
    "    num_topics=10,\n",
    "    corpuses_to_compare=None,\n",
    "    return_topics=True, # <--\n",
    "    incl_mc_questions=False,\n",
    "    ignore_words=None,\n",
    "    min_freq=2,\n",
    "    min_word_len=4,\n",
    "    sample_size=1\n",
    ")"
   ]
  },
  {
   "cell_type": "code",
   "execution_count": null,
   "metadata": {},
   "outputs": [],
   "source": [
    "topics[0]"
   ]
  },
  {
   "cell_type": "markdown",
   "metadata": {},
   "source": [
    "## Generate Keywords"
   ]
  },
  {
   "cell_type": "code",
   "execution_count": 23,
   "metadata": {
    "ExecuteTime": {
     "end_time": "2020-11-09T20:23:19.788818Z",
     "start_time": "2020-11-09T20:23:19.786309Z"
    },
    "slideshow": {
     "slide_type": "slide"
    }
   },
   "outputs": [],
   "source": [
    "ignore_words = None"
   ]
  },
  {
   "cell_type": "code",
   "execution_count": 24,
   "metadata": {
    "ExecuteTime": {
     "end_time": "2020-11-09T20:23:22.377271Z",
     "start_time": "2020-11-09T20:23:19.908459Z"
    },
    "code_folding": [],
    "slideshow": {
     "slide_type": "slide"
    }
   },
   "outputs": [],
   "source": [
    "freq_kws = kwgen.model.gen_keywords(\n",
    "    method='frequency',\n",
    "    text_corpus=df_corpus,\n",
    "    clean_texts=None,\n",
    "    input_language=input_language,\n",
    "    output_language=output_language,\n",
    "    num_keywords=15,\n",
    "    num_topics=5,\n",
    "    corpuses_to_compare=None,\n",
    "    return_topics=False,\n",
    "    incl_mc_questions=False,\n",
    "    ignore_words=ignore_words,\n",
    "    min_freq=2,\n",
    "    min_word_len=4,\n",
    "    sample_size=1\n",
    ")"
   ]
  },
  {
   "cell_type": "code",
   "execution_count": null,
   "metadata": {},
   "outputs": [],
   "source": [
    "freq_kws"
   ]
  },
  {
   "cell_type": "code",
   "execution_count": 16,
   "metadata": {
    "ExecuteTime": {
     "end_time": "2020-11-09T19:02:53.171585Z",
     "start_time": "2020-11-09T19:02:44.447035Z"
    },
    "slideshow": {
     "slide_type": "slide"
    }
   },
   "outputs": [],
   "source": [
    "LDA_kws = kwgen.model.gen_keywords(\n",
    "    method='lda',\n",
    "    text_corpus=df_corpus,\n",
    "    clean_texts=None,\n",
    "    input_language=input_language,\n",
    "    output_language=output_language,\n",
    "    num_keywords=15,\n",
    "    num_topics=12,\n",
    "    corpuses_to_compare=None,\n",
    "    return_topics=False,\n",
    "    incl_mc_questions=False,\n",
    "    ignore_words=ignore_words,\n",
    "    min_freq=2,\n",
    "    min_word_len=4,\n",
    "    sample_size=1\n",
    ")"
   ]
  },
  {
   "cell_type": "code",
   "execution_count": null,
   "metadata": {},
   "outputs": [],
   "source": [
    "LDA_kws"
   ]
  },
  {
   "cell_type": "markdown",
   "metadata": {},
   "source": [
    "## Translate Output"
   ]
  },
  {
   "cell_type": "code",
   "execution_count": null,
   "metadata": {},
   "outputs": [],
   "source": [
    "# This sometimes just doesn't work - try rerunning\n",
    "kwgen.utils.translate_output(\n",
    "    outputs=LDA_keywords, \n",
    "    input_language=input_language, \n",
    "    output_language='en'\n",
    ") # switch to another language"
   ]
  },
  {
   "cell_type": "markdown",
   "metadata": {},
   "source": [
    "## Order by Part of Speech"
   ]
  },
  {
   "cell_type": "code",
   "execution_count": null,
   "metadata": {},
   "outputs": [],
   "source": [
    "kwgen.utils._order_by_pos(outputs=LDA_keywords, output_language=output_language)"
   ]
  },
  {
   "cell_type": "markdown",
   "metadata": {},
   "source": [
    "## Get TFIDF Keywords"
   ]
  },
  {
   "cell_type": "code",
   "execution_count": 23,
   "metadata": {
    "ExecuteTime": {
     "end_time": "2020-11-09T19:03:31.136244Z",
     "start_time": "2020-11-09T19:03:21.976542Z"
    }
   },
   "outputs": [],
   "source": [
    "# This generally produces the most frequent words in the text corpus or general LDA words\n",
    "tfidf_kws = kwgen.model.gen_keywords(\n",
    "   method='tfidf',\n",
    "   text_corpus=mit_vergnuegen_path_lang[0],\n",
    "   clean_texts=None,\n",
    "   input_language=mit_vergnuegen_path_lang[1],\n",
    "   output_language=mit_vergnuegen_path_lang[1],\n",
    "   num_keywords=10,\n",
    "   num_topics=5,\n",
    "   corpuses_to_compare=[was_mit_medien_path_lang[0], # <-\n",
    "                        payment_banking_path_lang[0],\n",
    "                        blackrock_path_lang[0]],\n",
    "   return_topics=False,\n",
    "   incl_mc_questions=False,\n",
    "   ignore_words=ignore_words,\n",
    "   min_freq=2,\n",
    "   min_word_len=4,\n",
    "   sample_size=1\n",
    ")"
   ]
  },
  {
   "cell_type": "code",
   "execution_count": null,
   "metadata": {},
   "outputs": [],
   "source": [
    "tfidf_kws"
   ]
  },
  {
   "cell_type": "markdown",
   "metadata": {},
   "source": [
    "# Visualization Functions"
   ]
  },
  {
   "cell_type": "markdown",
   "metadata": {},
   "source": [
    "## Graph of Topic Number Evaluations"
   ]
  },
  {
   "cell_type": "code",
   "execution_count": null,
   "metadata": {},
   "outputs": [],
   "source": [
    "figure = kwgen.visuals.graph_topic_num_evals(\n",
    "    method=['lda', 'lda_bert'], # lda, bert, lda_bert\n",
    "    text_corpus=df_corpus, \n",
    "    clean_texts=None,\n",
    "    input_language=input_language,\n",
    "    num_keywords=15,\n",
    "    topic_nums_to_compare=None,\n",
    "    incl_mc_questions=False,\n",
    "    min_freq=2,\n",
    "    min_word_len=4,\n",
    "    sample_size=1,\n",
    "    metrics=True, # stability or coherence\n",
    "    fig_size=(20,10),\n",
    "    save_file=False,\n",
    "    return_ideal_metrics=False\n",
    ") # <- used for gen_analysis_files\n",
    "\n",
    "plt.show()"
   ]
  },
  {
   "cell_type": "markdown",
   "metadata": {},
   "source": [
    "## pyLDAvis Topic Visualization"
   ]
  },
  {
   "cell_type": "code",
   "execution_count": 28,
   "metadata": {
    "ExecuteTime": {
     "end_time": "2020-11-09T19:15:17.269799Z",
     "start_time": "2020-11-09T19:15:17.267481Z"
    }
   },
   "outputs": [],
   "source": [
    "# Commented out, as it changes the output dimensions due to its width\n",
    "# kwgen.visuals.pyLDAvis_topics(\n",
    "#     method='lda',\n",
    "#     text_corpus=df_corpus, \n",
    "#     input_language=input_language,\n",
    "#     num_topics=10,\n",
    "#     incl_mc_questions=False,\n",
    "#     min_freq=2,\n",
    "#     min_word_len=4,\n",
    "#     save_file=False,\n",
    "#     display_ipython=True # <- show in Jupyter notebook\n",
    "# )"
   ]
  },
  {
   "cell_type": "markdown",
   "metadata": {},
   "source": [
    "## Word Cloud"
   ]
  },
  {
   "cell_type": "code",
   "execution_count": null,
   "metadata": {},
   "outputs": [],
   "source": [
    "kwgen.visuals.gen_word_cloud(\n",
    "    text_corpus=df_corpus,\n",
    "    input_language=input_language,\n",
    "    incl_mc_questions=False,\n",
    "    ignore_words=ignore_words,\n",
    "    min_freq=2,\n",
    "    min_word_len=4,\n",
    "    sample_size=1,\n",
    "    height=500,\n",
    "    save_file=False\n",
    ")"
   ]
  },
  {
   "cell_type": "markdown",
   "metadata": {},
   "source": [
    "# gen_analysis_files Test"
   ]
  },
  {
   "cell_type": "code",
   "execution_count": null,
   "metadata": {},
   "outputs": [],
   "source": [
    "kwgen.visuals.gen_files(\n",
    "    method=['lda', 'bert', 'lda_bert'],\n",
    "    text_corpus=df_corpus, \n",
    "    clean_texts=None,\n",
    "    input_language=input_language,\n",
    "    output_language=output_language,\n",
    "    num_keywords=15,\n",
    "    topic_nums_to_compare=[10,11,12,13,14,15],\n",
    "    corpuses_to_compare=None,\n",
    "    incl_mc_questions=False,\n",
    "    ignore_words=None,\n",
    "    min_freq=2,\n",
    "    min_word_len=4,\n",
    "    sample_size=1,\n",
    "    fig_size=(20,10),\n",
    "    zip_results=True\n",
    ")"
   ]
  },
  {
   "cell_type": "code",
   "execution_count": null,
   "metadata": {},
   "outputs": [],
   "source": []
  }
 ],
 "metadata": {
  "kernelspec": {
   "display_name": "Python 3",
   "language": "python",
   "name": "python3"
  },
  "language_info": {
   "codemirror_mode": {
    "name": "ipython",
    "version": 3
   },
   "file_extension": ".py",
   "mimetype": "text/x-python",
   "name": "python",
   "nbconvert_exporter": "python",
   "pygments_lexer": "ipython3",
   "version": "3.7.7"
  },
  "toc": {
   "base_numbering": 1,
   "nav_menu": {},
   "number_sections": true,
   "sideBar": true,
   "skip_h1_title": false,
   "title_cell": "Table of Contents",
   "title_sidebar": "Contents",
   "toc_cell": true,
   "toc_position": {},
   "toc_section_display": true,
   "toc_window_display": false
  }
 },
 "nbformat": 4,
 "nbformat_minor": 4
}
